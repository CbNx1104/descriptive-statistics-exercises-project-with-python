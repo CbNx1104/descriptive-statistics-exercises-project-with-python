{
    "cells": [
        {
            "cell_type": "markdown",
            "id": "ac622319",
            "metadata": {},
            "source": [
                "# Descriptive statistics problems"
            ]
        },
        {
            "cell_type": "markdown",
            "id": "5e0ab0d5",
            "metadata": {},
            "source": [
                "### Exercise 1\n",
                "\n",
                "We will use NumPy to obtain information to describe statistically.\n",
                "\n",
                "- Generate an array of 100 elements following a normal distribution.\n",
                "- Generate an array of 100 elements following a chi-square distribution with 3 degrees of freedom.\n",
                "- Calculate the main metrics and statistical measures that best describe the two vectors."
            ]
        },
        {
            "cell_type": "code",
            "execution_count": 3,
            "id": "34720ab6",
            "metadata": {},
            "outputs": [
                {
                    "name": "stdout",
                    "output_type": "stream",
                    "text": [
                        "The main metrics and statistical measures that best describe the normal distribution are :\n",
                        "Mean = 0.048\n",
                        "Median = 0.118\n",
                        "Mode = -0.009\n",
                        "The data has a range of 4.693, going from -2.154 to 2.539\n",
                        "Variance = 1.055 and standard deviation is = 1.027\n",
                        "Skewness = -0.029\n",
                        "Kurtosis = -0.613\n",
                        "\n",
                        "The main metrics and statistical measures that best describe the normal distribution are :\n",
                        "Mean = 2.799\n",
                        "Median = 2.101\n",
                        "Mode = 2.625\n",
                        "The data has a range of 11.106, going from 0.06 to 11.166\n",
                        "Variance = 5.337 and standard deviation = 2.31\n",
                        "Skewness = 1.286\n",
                        "Kurtosis = 1.361\n"
                    ]
                },
                {
                    "data": {
                        "image/png": "[encoded data removed]",
                        "text/plain": [
                            "<Figure size 640x480 with 2 Axes>"
                        ]
                    },
                    "metadata": {},
                    "output_type": "display_data"
                }
            ],
            "source": [
                "# TODO\n",
                "import numpy as np\n",
                "import scipy.stats as st\n",
                "import statistics as stats\n",
                "import matplotlib.pyplot as plt\n",
                "\n",
                "arr_normal = np.random.normal(size=100)\n",
                "arr_chsq = np.random.chisquare(3,100)\n",
                "\n",
                "#Normal distribution\n",
                "\n",
                "print(\"The main metrics and statistical measures that best describe the normal distribution are :\")\n",
                "\n",
                "nmean = arr_normal.mean()\n",
                "print(\"Mean = \" + str(round(nmean,3)))\n",
                "nmedian = np.median(arr_normal)\n",
                "print(\"Median = \" + str(round(nmedian,3)))\n",
                "nmode = stats.mode(arr_normal)\n",
                "print(\"Mode = \" + str(round(nmode,3)))\n",
                "rangnormal = max(arr_normal) - min(arr_normal)\n",
                "print(\"The data has a range of \" + str(round(rangnormal,3)) + \", going from \" + str(round(min(arr_normal),3)) + \" to \" + str(round(max(arr_normal),3)))\n",
                "varnormal = np.var(arr_normal)\n",
                "stdnormal = np.std(arr_normal)\n",
                "print(\"Variance = \" + str(round(varnormal,3))+ \" and standard deviation is = \" + str(round(stdnormal,3)))\n",
                "sknormal = st.skew(arr_normal)\n",
                "print(\"Skewness = \" + str(round(sknormal,3)))\n",
                "kurtnormal = st.kurtosis(arr_normal)\n",
                "print(\"Kurtosis = \" + str(round(kurtnormal,3)))\n",
                "\n",
                "\n",
                "#Chi-square distribution\n",
                "\n",
                "print(\"\\nThe main metrics and statistical measures that best describe the normal distribution are :\")\n",
                "\n",
                "chmean = arr_chsq.mean()\n",
                "print(\"Mean = \" + str(round(chmean,3)))\n",
                "chmedian = np.median(arr_chsq)\n",
                "print(\"Median = \" + str(round(chmedian,3)))\n",
                "chmode = stats.mode(arr_chsq)\n",
                "print(\"Mode = \" + str(round(chmode,3)))\n",
                "rangch = max(arr_chsq) - min(arr_chsq)\n",
                "print(\"The data has a range of \" + str(round(rangch,3)) + \", going from \" + str(round(min(arr_chsq),3)) + \" to \" + str(round(max(arr_chsq),3)))\n",
                "varchsq = np.var(arr_chsq)\n",
                "stdchsq = np.std(arr_chsq)\n",
                "print(\"Variance = \" + str(round(varchsq,3))+ \" and standard deviation = \" + str(round(stdchsq,3)))\n",
                "skchsq = st.skew(arr_chsq)\n",
                "print(\"Skewness = \" + str(round(skchsq,3)))\n",
                "kurtchsq = st.kurtosis(arr_chsq)\n",
                "print(\"Kurtosis = \" + str(round(kurtchsq,3)))\n",
                "\n",
                "n_bins = 15\n",
                "fig, (ax0, ax1) = plt.subplots(nrows=1, ncols=2)\n",
                "ax0.hist(arr_normal, n_bins)\n",
                "ax0.set_title('Normal distribution data')\n",
                "ax1.hist(arr_chsq, n_bins)\n",
                "ax1.set_title('Chi-Square distribution data')\n",
                "fig.tight_layout()\n",
                "plt.show()"
            ]
        },
        {
            "cell_type": "markdown",
            "id": "46c70c3d",
            "metadata": {},
            "source": [
                "### Exercise 2\n",
                "\n",
                "Write a Python program to calculate the standard deviation of the following data:\n",
                "\n",
                "```py\n",
                "data = [4, 2, 5, 8, 6]\n",
                "```"
            ]
        },
        {
            "cell_type": "code",
            "execution_count": 5,
            "id": "d590308e",
            "metadata": {},
            "outputs": [
                {
                    "name": "stdout",
                    "output_type": "stream",
                    "text": [
                        "The sample data Standar deviation is: 2.23606797749979\n"
                    ]
                }
            ],
            "source": [
                "# TODO\n",
                "import math\n",
                "data = [4, 2, 5, 8, 6]\n",
                "\n",
                "def std(d):\n",
                "    summ = 0.0\n",
                "    diff2 = 0.0\n",
                "    if len(d) <= 1:\n",
                "        return 0.0\n",
                "    for i in d:\n",
                "        if len(d) <= 1:\n",
                "            mean = d[0]\n",
                "        else:\n",
                "            summ += i\n",
                "    mean = summ / len(d)\n",
                "    for j in data:\n",
                "        diff2 += (j - mean) ** 2\n",
                "    return math.sqrt(diff2 / (len(d)-1))\n",
                "\n",
                "print(f\"The sample data Standar deviation is: {std(data)}\")"
            ]
        }
    ],
    "metadata": {
        "interpreter": {
            "hash": "9248718ffe6ce6938b217e69dbcc175ea21f4c6b28a317e96c05334edae734bb"
        },
        "kernelspec": {
            "display_name": "Python 3.9.12 ('ML-BOOTCAMP')",
            "language": "python",
            "name": "python3"
        },
        "language_info": {
            "codemirror_mode": {
                "name": "ipython",
                "version": 3
            },
            "file_extension": ".py",
            "mimetype": "text/x-python",
            "name": "python",
            "nbconvert_exporter": "python",
            "pygments_lexer": "ipython3",
            "version": "3.11.4"
        }
    },
    "nbformat": 4,
    "nbformat_minor": 5
}
